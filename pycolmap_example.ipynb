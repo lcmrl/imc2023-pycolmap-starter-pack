{
  "cells": [
    {
      "cell_type": "code",
      "execution_count": null,
      "metadata": {
        "colab": {
          "base_uri": "https://localhost:8080/"
        },
        "id": "p5whSe-tmq5e",
        "outputId": "d4b48c64-ab98-43bc-f9b8-8bded986c7b4"
      },
      "outputs": [],
      "source": [
        "!pip install pycolmap"
      ]
    },
    {
      "cell_type": "code",
      "execution_count": 2,
      "metadata": {
        "id": "HyaaeMM6RO60"
      },
      "outputs": [],
      "source": [
        "import pycolmap"
      ]
    },
    {
      "cell_type": "code",
      "execution_count": 3,
      "metadata": {
        "id": "4LYUJSUymze0"
      },
      "outputs": [],
      "source": [
        "imgs = \"/path/to/imgs\"\n",
        "db = \"/path/to/database/db.db\"\n",
        "output_path = '/path/to/output/folder'"
      ]
    },
    {
      "cell_type": "markdown",
      "metadata": {
        "id": "yXkVLVwJ6hM9"
      },
      "source": [
        "### Feature extraction"
      ]
    },
    {
      "cell_type": "code",
      "execution_count": 22,
      "metadata": {
        "id": "j6lDcf-CR7Ew"
      },
      "outputs": [],
      "source": [
        "# If all images come from the same sensor, use 'SINGLE'. It will give a significant boost to accuracy\n",
        "# because of a better estimation of intrisics\n",
        "camera_mode = 'SINGLE' # 'SINGLE' or 'PER_FOLDER' or 'PER_IMAGE'\n",
        "\n",
        "# If few images share the same intrinsics, use a camera model with less parameters\n",
        "camera_model = 'SIMPLE_RADIAL' # 'SIMPLE_PINHOLE', 'PINHOLE', 'SIMPLE_RADIAL', 'RADIAL', 'OPENCV', 'FULL_OPENCV', 'SIMPLE_RADIAL_FISHEYE', 'RADIAL_FISHEYE', 'OPENCV_FISHEYE', 'FOV', 'THIN_PRISM_FISHEYE'\n",
        "\n",
        "sift_opt = pycolmap.SiftExtractionOptions()\n",
        "sift_opt.max_image_size = 1024 # Extract features at low resolution could significantly reduce the overall accuracy\n",
        "sift_opt.max_num_features = 2048 # Generally more features is better, even if behond a certain number it doesn't help incresing accuracy\n",
        "sift_opt.upright = True # rotation invariance\n",
        "device = 'cpu' # 'auto' or 'cpu' or 'cuda'"
      ]
    },
    {
      "cell_type": "code",
      "execution_count": null,
      "metadata": {
        "colab": {
          "base_uri": "https://localhost:8080/"
        },
        "id": "sGCMeCTrVRr_",
        "outputId": "d2014e61-692c-45aa-ee8e-a4e68ba262bb"
      },
      "outputs": [],
      "source": [
        "print(\"Extracting RootSIFT features ..\")\n",
        "pycolmap.extract_features(database_path=db,\n",
        "                          image_path=imgs,\n",
        "                          camera_mode=camera_mode,\n",
        "                          camera_model=camera_model,\n",
        "                          sift_options=sift_opt,\n",
        "                          device=device,\n",
        "                          verbose=True)"
      ]
    },
    {
      "cell_type": "code",
      "execution_count": null,
      "metadata": {
        "id": "FufFm5e4dr58"
      },
      "outputs": [],
      "source": [
        "# See default options and doc\n",
        "pycolmap.extract_features.__doc__\n",
        "help(pycolmap.SiftExtractionOptions)\n",
        "print(pycolmap.SiftExtractionOptions().summary())"
      ]
    },
    {
      "cell_type": "markdown",
      "metadata": {
        "id": "hD2U5BWCuvGy"
      },
      "source": [
        "### Matching"
      ]
    },
    {
      "cell_type": "code",
      "execution_count": 24,
      "metadata": {
        "id": "w7-GdALjloOX"
      },
      "outputs": [],
      "source": [
        "matching_opt = pycolmap.SiftMatchingOptions()\n",
        "matching_opt.max_ratio = 0.80 # Ratio threshold significantly influence the performance of the feature extraction method. It varies depending on the local feature but also on the image type \n",
        "matching_opt.max_distance = 0.7\n",
        "matching_opt.cross_check = True\n",
        "matching_opt.max_error = 1.0 # The ransac error threshold could help to exclude less accurate tie points\n",
        "device = 'cpu'"
      ]
    },
    {
      "cell_type": "code",
      "execution_count": null,
      "metadata": {
        "colab": {
          "base_uri": "https://localhost:8080/"
        },
        "id": "2jKSWfXUnVsi",
        "outputId": "c3db4248-1363-4097-e296-5c19aa7f87bf"
      },
      "outputs": [],
      "source": [
        "print(\"Exhaustive matching ...\")\n",
        "pycolmap.match_exhaustive(db, sift_options=matching_opt, device=device)"
      ]
    },
    {
      "cell_type": "code",
      "execution_count": null,
      "metadata": {
        "colab": {
          "base_uri": "https://localhost:8080/",
          "height": 104
        },
        "id": "_fjW1th3tmMi",
        "outputId": "db8b395a-9588-4e0e-c7c3-4bed04498829"
      },
      "outputs": [],
      "source": [
        "# See default options and doc\n",
        "pycolmap.match_exhaustive.__doc__\n",
        "print(pycolmap.SiftMatchingOptions().summary())\n",
        "help(pycolmap.SiftMatchingOptions)"
      ]
    },
    {
      "cell_type": "markdown",
      "metadata": {
        "id": "BiVDfq48vzGw"
      },
      "source": [
        "### Incremental reconstruction"
      ]
    },
    {
      "cell_type": "code",
      "execution_count": 10,
      "metadata": {
        "id": "DXtN4fkxwoY9"
      },
      "outputs": [],
      "source": [
        "mapper_options = pycolmap.IncrementalMapperOptions()\n",
        "mapper_options.extract_colors = False\n",
        "mapper_options.min_model_size = 3\n",
        "\n",
        "# Sometimes you want to impose the first image pair for initialize the incremental reconstruction\n",
        "mapper_options.init_image_id1 = -1 \n",
        "mapper_options.init_image_id2 = -1\n",
        "\n",
        "# Choose which interior will be refined during BA\n",
        "mapper_options.ba_refine_focal_length = True\n",
        "mapper_options.ba_refine_principal_point = True\n",
        "mapper_options.ba_refine_extra_params = True"
      ]
    },
    {
      "cell_type": "code",
      "execution_count": 11,
      "metadata": {
        "id": "YgCVQq5VvkF-"
      },
      "outputs": [],
      "source": [
        "maps = pycolmap.incremental_mapping(database_path=db, image_path=imgs, output_path=output_path, options=mapper_options)"
      ]
    },
    {
      "cell_type": "code",
      "execution_count": null,
      "metadata": {
        "colab": {
          "base_uri": "https://localhost:8080/",
          "height": 87
        },
        "id": "p4K2rjENv72O",
        "outputId": "3376d141-64a6-4ffd-aa0d-b528769a5673"
      },
      "outputs": [],
      "source": [
        "# See default options and doc\n",
        "pycolmap.incremental_mapping.__doc__\n",
        "help(pycolmap.IncrementalMapperOptions)\n",
        "print(pycolmap.IncrementalMapperOptions().summary())"
      ]
    },
    {
      "cell_type": "code",
      "execution_count": 14,
      "metadata": {
        "id": "RmC9YyuQonfX"
      },
      "outputs": [],
      "source": [
        "reconstruction = pycolmap.Reconstruction(f\"{output_path}/0\")\n",
        "reconstruction.write_text(f\"{output_path}/0\")"
      ]
    },
    {
      "cell_type": "code",
      "execution_count": null,
      "metadata": {
        "colab": {
          "base_uri": "https://localhost:8080/"
        },
        "id": "cWJjortEhVEV",
        "outputId": "5063a71f-7e19-4759-99d7-81de2022b5fa"
      },
      "outputs": [],
      "source": [
        "# Overview pycolmap functions\n",
        "dir(pycolmap)"
      ]
    }
  ],
  "metadata": {
    "accelerator": "GPU",
    "colab": {
      "provenance": []
    },
    "gpuClass": "standard",
    "kernelspec": {
      "display_name": "Python 3",
      "name": "python3"
    },
    "language_info": {
      "name": "python"
    }
  },
  "nbformat": 4,
  "nbformat_minor": 0
}
